{
 "cells": [
  {
   "metadata": {},
   "cell_type": "code",
   "outputs": [],
   "execution_count": null,
   "source": "",
   "id": "c7d3ffdf0998e903"
  },
  {
   "metadata": {
    "ExecuteTime": {
     "end_time": "2025-09-16T05:46:39.982220Z",
     "start_time": "2025-09-16T05:46:39.964507Z"
    }
   },
   "cell_type": "code",
   "source": [
    "import numpy as np\n",
    "import matplotlib.pyplot as plt\n",
    "\n",
    "class Perceptron:\n",
    "    def __init__(self, input_size, learning_rate=0.1):\n",
    "        self.weights = np.random.randn(input_size) * 0.01\n",
    "        self.bias = 0\n",
    "        self.lr = learning_rate\n",
    "\n",
    "    def predict(self, X):\n",
    "        z = X @ self.weights + self.bias\n",
    "        return (z >= 0).astype(int)\n",
    "\n",
    "    def train(self, X, y, epochs=100):\n",
    "        for epoch in range(epochs):\n",
    "            for xi, yi in zip(X, y):\n",
    "                pred = self.predict(xi.reshape(1, -1))[0]\n",
    "                error = yi - pred\n",
    "\n",
    "                # Perceptron learning rule\n",
    "                self.weights += self.lr * error * xi\n",
    "                self.bias += self.lr * error\n",
    "\n",
    "# Дані XOR\n",
    "X = np.array([[0, 0], [0, 1], [1, 0], [1, 1]])\n",
    "y = np.array([0, 1, 1, 0])  # XOR\n",
    "\n",
    "# Навчання\n",
    "perceptron = Perceptron(2)\n",
    "perceptron.train(X, y, epochs=100)\n",
    "\n",
    "# Результати\n",
    "print(\"XOR з одним персептроном:\")\n",
    "for xi, yi in zip(X, y):\n",
    "    pred = perceptron.predict(xi.reshape(1, -1))[0]\n",
    "    print(f\"Input: {xi}, True: {yi}, Predicted: {pred}\")\n",
    "print(\"Персептрон не може вирішити XOR!\")"
   ],
   "id": "ed1954671bb5da61",
   "outputs": [
    {
     "name": "stdout",
     "output_type": "stream",
     "text": [
      "XOR з одним персептроном:\n",
      "Input: [0 0], True: 0, Predicted: 1\n",
      "Input: [0 1], True: 1, Predicted: 0\n",
      "Input: [1 0], True: 1, Predicted: 0\n",
      "Input: [1 1], True: 0, Predicted: 0\n",
      "Персептрон не може вирішити XOR!\n"
     ]
    }
   ],
   "execution_count": 132
  },
  {
   "metadata": {
    "ExecuteTime": {
     "end_time": "2025-09-16T05:55:37.730687Z",
     "start_time": "2025-09-16T05:55:37.674416Z"
    }
   },
   "cell_type": "code",
   "source": [
    "class SimpleMLP:\n",
    "    def __init__(self):\n",
    "        # 2 входи -> 2 приховані -> 1 вихід\n",
    "        self.W1 = np.random.randn(2, 2)\n",
    "        self.b1 = np.zeros((1, 2))\n",
    "        self.W2 = np.random.randn(2, 1)\n",
    "        self.b2 = np.zeros((1, 1))\n",
    "\n",
    "    def forward(self, X):\n",
    "        # Прихований шар\n",
    "        self.z1 = X @ self.W1 + self.b1\n",
    "        self.a1 = np.maximum(0, self.z1)  # ReLU\n",
    "\n",
    "        # Вихідний шар\n",
    "        self.z2 = self.a1 @ self.W2 + self.b2\n",
    "        self.a2 = 1 / (1 + np.exp(-self.z2))  # Sigmoid\n",
    "\n",
    "        return self.a2\n",
    "\n",
    "    def train(self, X, y, epochs=1000, lr=0.1):\n",
    "        for epoch in range(epochs):\n",
    "            # Forward pass\n",
    "            output = self.forward(X)\n",
    "\n",
    "            # Backward pass (спрощений)\n",
    "            m = X.shape[0]\n",
    "\n",
    "            # Градієнт вихідного шару\n",
    "            dz2 = output - y.reshape(-1, 1)\n",
    "            dW2 = (1/m) * self.a1.T @ dz2\n",
    "            db2 = (1/m) * np.sum(dz2, axis=0, keepdims=True)\n",
    "\n",
    "            # Градієнт прихованого шару\n",
    "            da1 = dz2 @ self.W2.T\n",
    "            dz1 = da1 * (self.z1 > 0)  # ReLU derivative\n",
    "            dW1 = (1/m) * X.T @ dz1\n",
    "            db1 = (1/m) * np.sum(dz1, axis=0, keepdims=True)\n",
    "\n",
    "            # Оновлення ваг\n",
    "            self.W2 -= lr * dW2\n",
    "            self.b2 -= lr * db2\n",
    "            self.W1 -= lr * dW1\n",
    "            self.b1 -= lr * db1\n",
    "\n",
    "            if epoch % 100 == 0:\n",
    "                loss = np.mean((output - y.reshape(-1, 1))**2)\n",
    "                print(f\"Epoch {epoch}, Loss: {loss:.4f}\")\n",
    "\n",
    "# Навчання MLP на XOR\n",
    "mlp = SimpleMLP()\n",
    "mlp.train(X, y, epochs=1000, lr=0.5)\n",
    "\n",
    "# Результати\n",
    "print(\"\\nXOR з MLP:\")\n",
    "predictions = mlp.forward(X)\n",
    "for xi, yi, pred in zip(X, y, predictions):\n",
    "    print(f\"Input: {xi}, True: {yi}, Predicted: {pred[0]:.3f}\")"
   ],
   "id": "16337e00fba0c45a",
   "outputs": [
    {
     "name": "stdout",
     "output_type": "stream",
     "text": [
      "Epoch 0, Loss: 0.3776\n",
      "Epoch 100, Loss: 0.1671\n",
      "Epoch 200, Loss: 0.1667\n",
      "Epoch 300, Loss: 0.1667\n",
      "Epoch 400, Loss: 0.1667\n",
      "Epoch 500, Loss: 0.1667\n",
      "Epoch 600, Loss: 0.1667\n",
      "Epoch 700, Loss: 0.1667\n",
      "Epoch 800, Loss: 0.1667\n",
      "Epoch 900, Loss: 0.1667\n",
      "\n",
      "XOR з MLP:\n",
      "Input: [0 0], True: 0, Predicted: 0.666\n",
      "Input: [0 1], True: 1, Predicted: 0.666\n",
      "Input: [1 0], True: 1, Predicted: 0.666\n",
      "Input: [1 1], True: 0, Predicted: 0.001\n"
     ]
    }
   ],
   "execution_count": 178
  }
 ],
 "metadata": {
  "kernelspec": {
   "display_name": "Python 3",
   "language": "python",
   "name": "python3"
  },
  "language_info": {
   "codemirror_mode": {
    "name": "ipython",
    "version": 2
   },
   "file_extension": ".py",
   "mimetype": "text/x-python",
   "name": "python",
   "nbconvert_exporter": "python",
   "pygments_lexer": "ipython2",
   "version": "2.7.6"
  }
 },
 "nbformat": 4,
 "nbformat_minor": 5
}
